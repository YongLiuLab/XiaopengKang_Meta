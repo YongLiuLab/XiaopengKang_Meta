{
 "cells": [
  {
   "cell_type": "code",
   "execution_count": null,
   "metadata": {},
   "outputs": [],
   "source": [
    "import datasets\n",
    "\n",
    "import nibabel as nib\n",
    "import os\n",
    "import pickle\n",
    "import pandas as pd\n",
    "import seaborn as sns\n",
    "import numpy as np\n",
    "\n",
    "import draw_results\n",
    "import gene_analysis\n",
    "import removing_confound\n",
    "import meta_roi\n",
    "import meta_voxel\n",
    "import meta_vertex\n",
    "import meta_confound\n",
    "import correlation\n",
    "from mask import Mask, NiiMask\n",
    "import mixed_lm\n",
    "\n",
    "#Assume all data is organized\n",
    "#Load dataset\n",
    "centers = datasets.load_centers_all()\n",
    "\n",
    "#Define ROI Mask\n",
    "mask_path = './data/mask/rBN_Atlas_246_1mm.nii'\n",
    "mask = NiiMask(mask_path)\n",
    "\n",
    "label_pairs = [(2,0), (2,1), (1,0)]"
   ]
  },
  {
   "cell_type": "markdown",
   "metadata": {},
   "source": [
    "# Create ROI csv, and remove confound for each center"
   ]
  },
  {
   "cell_type": "code",
   "execution_count": null,
   "metadata": {},
   "outputs": [],
   "source": [
    "\"\"\"\n",
    "#Create ROI GMV/CT csv file\n",
    "for center in centers:\n",
    "    center.create_rgmv_csv(mask, gmv_csv_prefix='roi_gmv/{}.csv')\n",
    "    center.create_rct_csv()\n",
    "\"\"\"\n",
    "#Remove confound\n",
    "# ROI\n",
    "removing_confound.remove_roi(centers)\n",
    "removing_confound.remove_roi(centers, csv_prefix='roi_ct/{}.csv',\n",
    "                                out_prefix='roi_ct_removed/{}.csv')\n",
    "\"\"\"\n",
    "# Voxel\n",
    "centers = datasets.load_centers_edsd()\n",
    "removing_confound.remove_nii(centers, mask, batch_reg=False)\n",
    "centers = datasets.load_centers_mcad()\n",
    "removing_confound.remove_nii(centers, mask, batch_reg=False)\n",
    "centers = datasets.load_centers_adni()\n",
    "removing_confound.remove_nii(centers, mask, batch_reg=True, batch_size=4000000)\n",
    "\n",
    "# Vertex\n",
    "centers = datasets.load_centers_all()\n",
    "removing_confound.remove_gii(centers)\n",
    "\"\"\""
   ]
  },
  {
   "cell_type": "markdown",
   "metadata": {},
   "source": [
    "# Perform meta-analysis"
   ]
  },
  {
   "cell_type": "markdown",
   "metadata": {},
   "source": [
    "## ROI"
   ]
  },
  {
   "cell_type": "code",
   "execution_count": null,
   "metadata": {},
   "outputs": [],
   "source": [
    "# ROI\n",
    "csv_prefixs = ['roi_gmv' ,'roi_ct', 'roi_gmv_removed', 'roi_ct_removed']\n",
    "\n",
    "csv_dir = './data/meta_csv'\n",
    "out_dir = './results/meta'\n",
    "\"\"\"\n",
    "# Create csv for meta analysis\n",
    "for csv_prefix in csv_prefixs:\n",
    "    for label_pair in label_pairs:\n",
    "        label_eg = label_pair[0]\n",
    "        label_cg = label_pair[1]\n",
    "        meta_roi.create_csv_for_meta(centers, label_eg, label_cg, csv_prefix, out_path=csv_dir)\n",
    "\"\"\"\n",
    "#%%\n",
    "for label_pair in label_pairs:\n",
    "    label_eg = label_pair[0]\n",
    "    label_cg = label_pair[1]\n",
    "    # GMV meta-analysis\n",
    "    meta_roi.meta_gmv(label_eg, label_cg, mask, csv_prefix='roi_gmv', csv_dir=csv_dir, out_dir=out_dir)\n",
    "    meta_roi.meta_gmv(label_eg, label_cg, mask, csv_prefix='roi_gmv_removed', csv_dir=csv_dir, out_dir=out_dir)\n",
    "    # CT meta-analysis\n",
    "    meta_roi.meta_ct(label_eg, label_cg, csv_prefix='roi_ct', mask=mask, save_gii=False, save_nii=True, csv_dir=csv_dir, out_dir=out_dir)\n",
    "    meta_roi.meta_ct(label_eg, label_cg, csv_prefix='roi_ct_removed', mask=mask, save_gii=False, save_nii=True, csv_dir=csv_dir, out_dir=out_dir)"
   ]
  },
  {
   "cell_type": "code",
   "execution_count": null,
   "id": "8759de63",
   "metadata": {},
   "outputs": [],
   "source": [
    "csv_dir = './data/meta_csv'\n",
    "out_dir = './results/meta'\n",
    "results = meta_roi.meta_gmv(2, 0, mask, csv_prefix='roi_gmv_removed', csv_dir=csv_dir, out_dir=out_dir, save_nii=False)"
   ]
  },
  {
   "cell_type": "code",
   "execution_count": null,
   "id": "486abd71",
   "metadata": {},
   "outputs": [],
   "source": [
    "df_dict = {}\n",
    "\n",
    "for k, result in results.items():\n",
    "    row = [result.total_effect_size, result.total_variance, result.total_standard_error,\n",
    "            result.total_lower_limit, result.total_upper_limit, result.q, result.z, result.p]\n",
    "    df_dict[k] = row\n",
    "\n",
    "df = pd.DataFrame.from_dict(df_dict, orient='index',\n",
    "                       columns=['total_effect_size', 'total_variance', 'total_standard_error', 'total_lower_limit', \n",
    "                        'total_upper_limit', 'q', 'z', 'p'])\n",
    "df.to_csv('./results/NC_AD_BN.csv')"
   ]
  },
  {
   "cell_type": "markdown",
   "metadata": {},
   "source": [
    "# Plot correlation between each center"
   ]
  },
  {
   "cell_type": "code",
   "execution_count": null,
   "metadata": {},
   "outputs": [],
   "source": [
    "import matplotlib.pyplot as plt\n",
    "import seaborn as sns\n",
    "# Create Dataframe with full sites\n",
    "es_df_columns = ['Total']\n",
    "for center in centers:\n",
    "    es_df_columns.append(center.name)\n",
    "\n",
    "roi_count = 246\n",
    "es_df = pd.DataFrame(columns=es_df_columns, index=[i for i in range(1, roi_count+1)])\n",
    "\n",
    "# perform meta_analysis\n",
    "result_models = meta_roi.meta_gmv(2, 0, mask, save_nii=False,\n",
    "                                  csv_prefix='roi_gmv_removed')\n",
    "for roi in range(1, roi_count+1):\n",
    "    values = [result_models[roi].total_effect_size]\n",
    "    for center in centers:\n",
    "        value = np.NaN\n",
    "        for study, es in zip(result_models[roi].studies, result_models[roi].effect_sizes):\n",
    "            if center.name == study.name:\n",
    "                value = es\n",
    "        values.append(value)\n",
    "    es_df.loc[roi] = values\n",
    "es_df = es_df.astype(np.float32)\n",
    "es_df = es_df.dropna(axis=1, how='any')\n",
    "\n",
    "corr_df = es_df.corr()\n",
    "# Set up the matplotlib figure\n",
    "f, ax = plt.subplots(figsize=(9, 9))\n",
    "cmap = sns.color_palette(\"cubehelix_r\", as_cmap=True)\n",
    "# Draw the heatmap with the mask and correct aspect ratio\n",
    "ax = sns.heatmap(corr_df, cmap='YlGnBu', vmin=0, vmax=1,\n",
    "            square=True, linewidths=.5, cbar_kws={\"shrink\": .8})\n",
    "ax.axis('off')\n",
    "plt.show()"
   ]
  },
  {
   "cell_type": "markdown",
   "metadata": {},
   "source": [
    "# Center heterogeneity"
   ]
  },
  {
   "cell_type": "code",
   "execution_count": null,
   "metadata": {},
   "outputs": [],
   "source": [
    "label_eg = 2\n",
    "label_cg = 0\n",
    "# GMV meta-analysis\n",
    "result_models = meta_roi.meta_gmv(label_eg, label_cg, mask,\n",
    "                                 save_nii=False,csv_prefix='roi_gmv_removed')\n",
    "from draw_results import plot_correlation\n",
    "ess = []\n",
    "heters = []\n",
    "for k, model in result_models.items():\n",
    "    ess.append(model.total_effect_size)\n",
    "    heters.append(model.q)\n",
    "plot_correlation(ess, heters)"
   ]
  },
  {
   "cell_type": "code",
   "execution_count": null,
   "metadata": {},
   "outputs": [],
   "source": [
    "# Check how many ROI pass correction\n",
    "for label_pair in label_pairs:\n",
    "    label_eg = label_pair[0]\n",
    "    label_cg = label_pair[1]\n",
    "    # GMV meta-analysis\n",
    "    roi_models = meta_roi.meta_gmv(label_eg, label_cg, mask, csv_prefix='roi_gmv_removed')\n",
    "    #roi_models = meta_roi.meta_ct(label_eg, label_cg, csv_prefix='roi_ct_removed', mask=mask, save_gii=False, save_nii=False)\n",
    "    i = 0\n",
    "    for key, model in roi_models.items():\n",
    "        if model.p < 0.001/246:\n",
    "            i += 1\n",
    "    print(i)"
   ]
  },
  {
   "cell_type": "code",
   "execution_count": null,
   "metadata": {},
   "outputs": [],
   "source": [
    "for label_pair in label_pairs:\n",
    "    label_eg = label_pair[0]\n",
    "    label_cg = label_pair[1]\n",
    "    # CT meta-analysis\n",
    "    roi_models = meta_roi.meta_ct(label_eg, label_cg, csv_prefix='roi_ct_removed', mask=mask, save_gii=False, save_nii=False)\n",
    "    i = 0\n",
    "    for key, model in roi_models.items():\n",
    "        if model.p < 0.001/246:\n",
    "            i += 1\n",
    "    print(i)"
   ]
  },
  {
   "cell_type": "markdown",
   "metadata": {},
   "source": [
    "## Voxel and Vertex"
   ]
  },
  {
   "cell_type": "code",
   "execution_count": null,
   "metadata": {},
   "outputs": [],
   "source": [
    "# Voxel\n",
    "# Create center mean std nii file\n",
    "labels = [0, 1, 2]\n",
    "\n",
    "for center in centers:\n",
    "    temp_nii = nib.load('./data/mask/save_temp.nii')\n",
    "    for label in labels:\n",
    "        center.create_stat_nii(label, temp_nii, nii_dir='mri_smoothed')\n",
    "\n",
    "# perform meta-analysis\n",
    "for label_pair in label_pairs:\n",
    "    label_eg = label_pair[0]\n",
    "    label_cg = label_pair[1]\n",
    "    meta_voxel.meta_nii(centers, label_eg, label_cg, mri_dir='mri_smoothed')"
   ]
  },
  {
   "cell_type": "code",
   "execution_count": null,
   "metadata": {},
   "outputs": [],
   "source": [
    "\"\"\"\n",
    "# Vertex\n",
    "# Create center mean std numpy file\n",
    "labels = [0,1,2]\n",
    "for center in centers:\n",
    "    for label in labels:\n",
    "        center.create_stat_gii(label, prefix='surf/s15.mesh.thickness.resampled_32k.{}.gii')\n",
    "\"\"\"\n",
    "# perform meta-analysis for resampled surface\n",
    "for label_pair in label_pairs:\n",
    "    label_eg = label_pair[0]\n",
    "    label_cg = label_pair[1]\n",
    "    meta_vertex.meta_gii(centers, label_eg, label_cg)"
   ]
  },
  {
   "cell_type": "markdown",
   "metadata": {},
   "source": [
    "# personal score"
   ]
  },
  {
   "cell_type": "code",
   "execution_count": null,
   "metadata": {},
   "outputs": [],
   "source": [
    "from data_harmonization import neurocombat\n",
    "\n",
    "neurocombat(centers, personal_info_prefix = 'personal_info/{}.csv',\n",
    "                cat_prefix = 'report/cat_{}.xml',\n",
    "                csv_prefix = 'roi_gmv/{}.csv',\n",
    "                out_prefix = 'neurocombat_gmv/{}.csv')\n",
    "neurocombat(centers, personal_info_prefix = 'personal_info/{}.csv',\n",
    "                cat_prefix = 'report/cat_{}.xml',\n",
    "                csv_prefix = 'roi_ct/{}.csv',\n",
    "                out_prefix = 'neurocombat_ct/{}.csv')"
   ]
  },
  {
   "cell_type": "code",
   "execution_count": null,
   "id": "d47ebbe6",
   "metadata": {},
   "outputs": [],
   "source": [
    "from data_harmonization import neurocombat2\n",
    "\n",
    "neurocombat2(centers, personal_info_prefix = 'personal_info/{}.csv',\n",
    "                cat_prefix = 'report/cat_{}.xml',\n",
    "                csv_prefix = 'roi_gmv/{}.csv',\n",
    "                out_prefix = 'neurocombat_gmv2/{}.csv',\n",
    "                gmv=True)\n",
    "neurocombat2(centers, personal_info_prefix = 'personal_info/{}.csv',\n",
    "                cat_prefix = 'report/cat_{}.xml',\n",
    "                csv_prefix = 'roi_ct/{}.csv',\n",
    "                out_prefix = 'neurocombat_ct2/{}.csv',\n",
    "                gmv=False)"
   ]
  },
  {
   "cell_type": "code",
   "execution_count": null,
   "metadata": {},
   "outputs": [],
   "source": [
    "# Create stats csv for each label\n",
    "from personal_scores import create_stats_csv, cal_personal_scores\n",
    "\n",
    "create_stats_csv(centers, 'neurocombat_gmv', out_dir='./data/stats', divide_tiv=False)\n",
    "cal_personal_scores(centers, stats_dir='./data/stats/neurocombat_gmv',\n",
    "                     csv_prefix='neurocombat_gmv/{}.csv', out_prefix='personal_scores/{}.csv')\n"
   ]
  },
  {
   "cell_type": "code",
   "execution_count": null,
   "metadata": {},
   "outputs": [],
   "source": [
    "from personal_scores import plot_stats\n",
    "ax, legends = plot_stats('./data/stats/roi_gmv', 217)\n",
    "import matplotlib.pyplot as plt\n",
    "ax.legend(legends)\n",
    "plt.show()"
   ]
  },
  {
   "cell_type": "markdown",
   "metadata": {},
   "source": [
    "### Subtype based on personal scores -> see subtype_unsupervised.py"
   ]
  },
  {
   "cell_type": "markdown",
   "metadata": {},
   "source": [
    "## Confound"
   ]
  },
  {
   "cell_type": "code",
   "execution_count": null,
   "metadata": {},
   "outputs": [],
   "source": [
    "# Create csv for meta analysis\n",
    "for label_pair in label_pairs:\n",
    "    label_eg = label_pair[0]\n",
    "    label_cg = label_pair[1]\n",
    "    meta_confound.create_csv_for_meta(centers, label_eg, label_cg)\n",
    "\n",
    "for label_pair in label_pairs:\n",
    "    label_eg = label_pair[0]\n",
    "    label_cg = label_pair[1]\n",
    "    meta_confound.meta_confound(label_eg, label_cg)"
   ]
  },
  {
   "cell_type": "markdown",
   "metadata": {},
   "source": [
    "# PET: ABeta"
   ]
  },
  {
   "cell_type": "code",
   "execution_count": null,
   "metadata": {},
   "outputs": [],
   "source": [
    "# abeta PET correlation\n",
    "from abeta_pet import ttest_by_label\n",
    "import utils\n",
    "out_dir_prefix = './results_0401/correlation/{}_{}'\n",
    "\n",
    "for label_pair in label_pairs:\n",
    "    label_eg = label_pair[0]\n",
    "    label_cg = label_pair[1]\n",
    "    t, p = ttest_by_label(label_eg, label_cg)\n",
    "\n",
    "    roi_models = meta_roi.meta_gmv(label_eg, label_cg, mask, save_nii=False)\n",
    "    es1 = [v.total_effect_size for k,v in sorted(roi_models.items())]\n",
    "    es2 = [v for k,v in sorted(t.items())]\n",
    "    draw_results.plot_correlation_joint(es1, es2,\n",
    "        'Effect sizes of ROI GMV', 't-values of ROI Aβ', fontsize=18, show=False,\n",
    "        save=True, out_path=os.path.join(out_dir_prefix.format(label_eg, label_cg), 'gmv', 'abeta.png'))\n",
    "\n",
    "    roi_models = meta_roi.meta_ct(label_eg, label_cg, mask, save_nii=False, save_gii=False)\n",
    "    es1 = [v.total_effect_size for k,v in sorted(roi_models.items()) if int(k)<211]\n",
    "    es2 = [v for k,v in sorted(t.items()) if int(k)<211]\n",
    "    draw_results.plot_correlation_joint(es1, es2,\n",
    "        'Effect sizes of ROI CT', 't-values of ROI Aβ', fontsize=18, show=False,\n",
    "        save=True, out_path=os.path.join(out_dir_prefix.format(label_eg, label_cg), 'ct', 'abeta.png'))"
   ]
  },
  {
   "cell_type": "code",
   "execution_count": null,
   "metadata": {},
   "outputs": [],
   "source": [
    "from abeta_pet import create_subject_df \n",
    "df = create_subject_df()\n",
    "len(df)"
   ]
  },
  {
   "cell_type": "markdown",
   "metadata": {},
   "source": [
    "# PET: FDG"
   ]
  },
  {
   "cell_type": "code",
   "execution_count": null,
   "id": "3c800f8d",
   "metadata": {},
   "outputs": [],
   "source": [
    "from pet_fdg import create_sum, create_subject_df\n",
    "subject_df = create_subject_df()\n",
    "\n",
    "mask = NiiMask(r'I:\\data\\atlas\\grey_matter\\brainnetome\\BN_Atlas_246_1mm.nii.gz')\n",
    "create_sum(subject_df, mask)"
   ]
  },
  {
   "cell_type": "code",
   "execution_count": null,
   "id": "09775dda",
   "metadata": {},
   "outputs": [],
   "source": [
    "# Generate FDG age\n",
    "import pandas as pd\n",
    "\n",
    "df1 = pd.read_csv(r'G:\\workspace\\AD_meta\\data\\PET\\fdg\\all_info_fixed.csv', index_col=['PTID', 'VISCODE'])\n",
    "df2 = pd.read_csv(r'G:\\data\\dataset_info\\AD\\ADNI\\ADNIMERGE.csv', index_col=['PTID', 'VISCODE'])\n",
    "true_ages = []\n",
    "MMSEs = []\n",
    "for key, row in df1.iterrows():\n",
    "    row2 = df2.loc[key]\n",
    "    true_age = row2['AGE'] + row2['Years_bl']\n",
    "    true_ages.append(true_age)\n",
    "    MMSEs.append(row2['MMSE'])\n",
    "df1['TrueAge'] = true_ages\n",
    "df1['MMSE'] = MMSEs\n",
    "\n",
    "df1.to_csv(r'G:\\workspace\\AD_meta\\data\\PET\\fdg\\all_info_fixed_age.csv')"
   ]
  },
  {
   "cell_type": "code",
   "execution_count": null,
   "id": "8c45a583",
   "metadata": {},
   "outputs": [],
   "source": [
    "df = pd.read_csv(r'G:\\workspace\\AD_meta\\data\\PET\\fdg\\all_info_fixed_age.csv', index_col='PTID')\n",
    "\n",
    "files = os.listdir(r'G:\\workspace\\AD_meta\\data\\PET\\fdg\\nii')\n",
    "files = [f[:-4] for f in files if 'nii' in f]\n",
    "\n",
    "sub_df = df[df.index.isin(files)]\n",
    "sub_df.to_csv(r'G:\\workspace\\AD_meta\\data\\PET\\fdg\\all_info_fixed_age_flitered.csv')"
   ]
  },
  {
   "cell_type": "code",
   "execution_count": null,
   "metadata": {},
   "outputs": [],
   "source": [
    "from pet_fdg import ttest_by_label\n",
    "out_dir_prefix = './results_0401/correlation/{}_{}'\n",
    "\n",
    "for label_pair in label_pairs:\n",
    "    label_eg = label_pair[0]\n",
    "    label_cg = label_pair[1]\n",
    "    t, p = ttest_by_label(label_eg, label_cg)\n",
    "\n",
    "    roi_models = meta_roi.meta_gmv(label_eg, label_cg, mask, save_nii=False)\n",
    "    es1 = [v.total_effect_size for k,v in sorted(roi_models.items())]\n",
    "    es2 = [v for k,v in sorted(t.items())]\n",
    "    draw_results.plot_correlation_joint(es1, es2,\n",
    "        'Effect sizes of ROI GMV', 't-values of ROI FDG', fontsize=18, show=False,\n",
    "        save=True, out_path=os.path.join(out_dir_prefix.format(label_eg, label_cg), 'gmv', 'FDG.png'))\n",
    "    \n",
    "    roi_models = meta_roi.meta_ct(label_eg, label_cg, mask, save_nii=False, save_gii=False)\n",
    "    es1 = [v.total_effect_size for k,v in sorted(roi_models.items()) if int(k)<211]\n",
    "    es2 = [v for k,v in sorted(t.items()) if int(k)<211]\n",
    "    draw_results.plot_correlation_joint(es1, es2, \n",
    "        'Effect sizes of ROI CT', 't-values of ROI FDG', fontsize=18, show=False,\n",
    "        save=True, out_path=os.path.join(out_dir_prefix.format(label_eg, label_cg), 'ct', 'FDG.png'))"
   ]
  },
  {
   "cell_type": "code",
   "execution_count": null,
   "id": "226855b5",
   "metadata": {},
   "outputs": [],
   "source": [
    "from nilearn import plotting\n",
    "\n",
    "_dir = r'G:\\workspace\\AD_meta\\data\\PET\\fdg\\nii'\n",
    "files = os.listdir(_dir)\n",
    "for f in files:\n",
    "    if '.nii' in f:\n",
    "        nii = nib.load(os.path.join(_dir, f))\n",
    "        plotting.plot_stat_map(nii, output_file=f'./tmp/{f}.png')"
   ]
  },
  {
   "cell_type": "code",
   "execution_count": null,
   "metadata": {},
   "outputs": [],
   "source": [
    "from pet_fdg import create_subject_df \n",
    "df = create_subject_df()\n",
    "len(df)"
   ]
  },
  {
   "cell_type": "markdown",
   "metadata": {},
   "source": [
    "# PET:Juspace"
   ]
  },
  {
   "cell_type": "code",
   "execution_count": null,
   "metadata": {},
   "outputs": [],
   "source": [
    "pet_dir = './data/PET/masked_mean'\n",
    "out_dir_prefix = './results/correlation/{}_{}/{}/PET'\n",
    "labels = ['NC', 'MCI', 'AD']\n",
    "\n",
    "df1 = pd.DataFrame(columns = ['x', 'y', 'Pearson\\'s r', 'Size', 'p'])\n",
    "x_labels = []\n",
    "y_labels = []\n",
    "label_pairs = [(1,0), (2,1), (2,0)]\n",
    "\n",
    "y = 1\n",
    "for label_pair in label_pairs:\n",
    "    label_eg = label_pair[0]\n",
    "    label_cg = label_pair[1]\n",
    "    roi_gmv_models = meta_roi.meta_gmv(label_eg, label_cg, mask, save_nii=False)\n",
    "    roi_ct_models = meta_roi.meta_ct(label_eg, label_cg, save_gii=False, save_nii=False)\n",
    "\n",
    "    gmv_out_dir = out_dir_prefix.format(label_eg, label_cg, 'gmv')\n",
    "    ct_out_dir = out_dir_prefix.format(label_eg, label_cg, 'ct')\n",
    "    if not os.path.exists(gmv_out_dir):\n",
    "        os.mkdir(gmv_out_dir)\n",
    "    if not os.path.exists(ct_out_dir):\n",
    "        os.mkdir(ct_out_dir)\n",
    "\n",
    "    gmv_results = correlation.cor_roi_pet(roi_gmv_models, pet_dir, out_dir=gmv_out_dir,\n",
    "                                        fig_width=5, fig_height=5,\n",
    "                                        fontsize=18, save=True, show=False)\n",
    "    ct_results = correlation.cor_roi_pet(roi_ct_models, pet_dir, out_dir=ct_out_dir,\n",
    "                                        fig_width=5, fig_height=5,\n",
    "                                        fontsize=18,  save=True, show=False)\n",
    "    if not x_labels:\n",
    "        for result in gmv_results:\n",
    "            x_labels.append(result.name)\n",
    "    y_labels.append('{}_{}_CT'.format(labels[label_eg], labels[label_cg]))\n",
    "    y_labels.append('{}_{}_GMV'.format(labels[label_eg], labels[label_cg]))\n",
    "    \n",
    "    x = 1\n",
    "    for result in ct_results:\n",
    "        df1 = df1.append({'x' : x, 'y' : y, 'Pearson\\'s r' : result.r,\n",
    "                        'Size':abs(result.r), 'p': result.p, '-log10 p':-np.log10(result.p)}, \n",
    "                        ignore_index = True) \n",
    "        x += 1\n",
    "\n",
    "    x = 1\n",
    "    for result in gmv_results:\n",
    "        df1 = df1.append({'x' : x, 'y' : y+1, 'Pearson\\'s r' : result.r,\n",
    "                        'Size':abs(result.r), 'p': result.p, '-log10 p':-np.log10(result.p)}, \n",
    "                        ignore_index = True) \n",
    "        x += 1\n",
    "    y += 2"
   ]
  },
  {
   "cell_type": "code",
   "execution_count": null,
   "id": "de3f1c11",
   "metadata": {},
   "outputs": [],
   "source": [
    "import abeta_pet\n",
    "import pet_fdg\n",
    "import correlation\n",
    "\n",
    "labels = ['NC', 'MCI', 'AD']\n",
    "y_labels = []\n",
    "df2 = pd.DataFrame(columns = ['x', 'y', 'Pearson\\'s r', 'Size', 'p'])\n",
    "label_pairs = [(1,0), (2,1), (2,0)]\n",
    "i = 0\n",
    "y = 1\n",
    "for label_pair in label_pairs:\n",
    "    label_eg = label_pair[0]\n",
    "    label_cg = label_pair[1]\n",
    "    roi_gmv_models = meta_roi.meta_gmv(label_eg, label_cg, mask, save_nii=False)\n",
    "    roi_ct_models = meta_roi.meta_ct(label_eg, label_cg, save_gii=False, save_nii=False)\n",
    "\n",
    "    gmv_es_dict = {}\n",
    "    for key, roi_gmv_model in roi_gmv_models.items():\n",
    "        gmv_es_dict[key] = roi_gmv_model.total_effect_size\n",
    "        \n",
    "    ct_es_dict = {}\n",
    "    for key, roi_ct_model in roi_ct_models.items():\n",
    "        ct_es_dict[key] = roi_ct_model.total_effect_size\n",
    "\n",
    "    abeta_t, _ = abeta_pet.ttest_by_label(label_eg, label_cg)\n",
    "    fdg_t, _ =  pet_fdg.ttest_by_label(label_eg, label_cg)\n",
    "    \n",
    "    gmv_results = [correlation.pearson_r('Abeta', gmv_es_dict, abeta_t), \n",
    "                   correlation.pearson_r('FDG', gmv_es_dict, fdg_t)]\n",
    "    ct_results = [correlation.pearson_r('Abeta', ct_es_dict, abeta_t), \n",
    "                   correlation.pearson_r('FDG', ct_es_dict, fdg_t)]\n",
    "\n",
    "    if i == 0:\n",
    "        for result in gmv_results:\n",
    "            x_labels.append(result.name)\n",
    "        i += 1\n",
    "    y_labels.append('{}_{}_CT'.format(labels[label_eg], labels[label_cg]))\n",
    "    y_labels.append('{}_{}_GMV'.format(labels[label_eg], labels[label_cg]))\n",
    "    \n",
    "    x = 13\n",
    "    for result in ct_results:\n",
    "        df2 = df2.append({'x' : x, 'y' : y, 'Pearson\\'s r' : result.r,\n",
    "                        'Size':abs(result.r), 'p': result.p, '-log10 p':-np.log10(result.p)}, \n",
    "                        ignore_index = True)\n",
    "        x += 1\n",
    "\n",
    "    x = 13\n",
    "    for result in gmv_results:\n",
    "        df2 = df2.append({'x' : x, 'y' : y+1, 'Pearson\\'s r' : result.r,\n",
    "                        'Size':abs(result.r), 'p': result.p, '-log10 p':-np.log10(result.p)}, \n",
    "                        ignore_index = True)\n",
    "        x += 1\n",
    "    y += 2"
   ]
  },
  {
   "cell_type": "code",
   "execution_count": null,
   "id": "da394c4e",
   "metadata": {},
   "outputs": [],
   "source": [
    "df = pd.concat([df1, df2], ignore_index=True, sort=False)\n",
    "df = df.append({'x' : 1, 'y' : 0, 'Pearson\\'s r' : 0,\n",
    "                        'Size':0, 'p': 0, '-log10 p':0}, \n",
    "                        ignore_index = True)\n",
    "df = df.append({'x' : 1, 'y' : 7, 'Pearson\\'s r' : 0,\n",
    "                        'Size':0, 'p': 0, '-log10 p':0}, \n",
    "                        ignore_index = True)"
   ]
  },
  {
   "cell_type": "code",
   "execution_count": null,
   "metadata": {},
   "outputs": [],
   "source": [
    "import matplotlib.pyplot as plt\n",
    "def draw_pet_relplot(df, x_labels, y_labels):\n",
    "    # Draw each cell as a scatter point with varying size and color\n",
    "    sns.set_theme(style=\"whitegrid\")\n",
    "    g = sns.relplot(\n",
    "        data=df, height=3.7, aspect=1.8,\n",
    "        x=\"x\", y=\"y\", hue=\"Pearson\\'s r\", size=\"-log10 p\",\n",
    "        palette=\"vlag\", hue_norm=(-0.8, 0.8), edgecolor=\".7\",\n",
    "        sizes=(0, 600), size_norm=(1, 15),\n",
    "        legend='full')\n",
    "\n",
    "    g.ax.set_xticks(np.arange(1, len(x_labels)+1))\n",
    "    g.ax.set_xticklabels(x_labels)\n",
    "\n",
    "    g.ax.set_yticks(np.arange(1, len(y_labels)+1))\n",
    "    g.ax.set_yticklabels(y_labels)\n",
    "    \n",
    "    g.despine(left=True, bottom=True)\n",
    "\n",
    "    for label in g.ax.get_xticklabels():\n",
    "        label.set_rotation(90)\n",
    "        x, y = label.get_position()\n",
    "        label.set_position((x, y-0.2))\n",
    "    for artist in g.legend.legendHandles:\n",
    "        artist.set_edgecolor(\".7\")\n",
    "\n",
    "    #plt.savefig(r'D:\\Desktop\\abeta_fdg.png', dpi=600)\n",
    "    plt.show()\n",
    "\n",
    "draw_pet_relplot(df, x_labels, y_labels)"
   ]
  },
  {
   "cell_type": "code",
   "execution_count": null,
   "metadata": {},
   "outputs": [],
   "source": []
  },
  {
   "cell_type": "markdown",
   "metadata": {},
   "source": [
    "# PLSR with Gene"
   ]
  },
  {
   "cell_type": "code",
   "execution_count": null,
   "metadata": {},
   "outputs": [],
   "source": [
    "n_perm_boot = 5000\n",
    "n_components = 5\n",
    "out_dir_prefix ='./results/gene/{}_{}'\n",
    "label_pairs = [(2,0)]\n",
    "for label_pair in label_pairs:\n",
    "    label_eg = label_pair[0]\n",
    "    label_cg = label_pair[1]\n",
    "    out_dir = out_dir_prefix.format(label_eg, label_cg)\n",
    "    if not os.path.exists(out_dir):\n",
    "        os.mkdir(out_dir)\n",
    "    roi_gmv_models = meta_roi.meta_gmv(label_eg, label_cg, mask, save_nii=False)\n",
    "    roi_ct_models = meta_roi.meta_ct(label_eg, label_cg, save_gii=False, save_nii=False)\n",
    "    \n",
    "    gmv_es_dict = {}\n",
    "    for k,v in sorted(roi_gmv_models.items()):\n",
    "        gmv_es_dict[int(k)] = v.total_effect_size\n",
    "        \n",
    "    ct_es_dict = {}\n",
    "    for k,v in sorted(roi_ct_models.items()):\n",
    "        ct_es_dict[int(k)] = v.total_effect_size\n",
    "    print('model calculated')\n",
    "    gmv_plsr = gene_analysis.plsr(gmv_es_dict, n_components=n_components,\n",
    "                                  n_perm=n_perm_boot, n_boot=n_perm_boot,\n",
    "                                  out_path=os.path.join(out_dir, 'plsr_gmv.csv'))\n",
    "    print('GMV Finished')\n",
    "    ct_plsr = gene_analysis.plsr(ct_es_dict, n_components=n_components,\n",
    "                                  n_perm=n_perm_boot, n_boot=n_perm_boot,\n",
    "                                  out_path=os.path.join(out_dir, 'plsr_ct.csv'))\n",
    "\n",
    "    with open(os.path.join(out_dir, 'plsr_gmv.pickle'), 'wb') as f:\n",
    "        pickle.dump(gmv_plsr, f)\n",
    "    with open(os.path.join(out_dir, 'plsr_ct.pickle'), 'wb') as f:\n",
    "        pickle.dump(ct_plsr, f)"
   ]
  },
  {
   "cell_type": "markdown",
   "metadata": {},
   "source": [
    "## Check PLSR models"
   ]
  },
  {
   "cell_type": "code",
   "execution_count": null,
   "metadata": {},
   "outputs": [],
   "source": [
    "# Check plsr model\n",
    "result_plsr_dir = './results/gene/2_0'\n",
    "with open(os.path.join(result_plsr_dir, 'plsr_gmv.pickle'), 'rb') as f:\n",
    "    gmv_plsr = pickle.load(f)\n",
    "with open(os.path.join(result_plsr_dir, 'plsr_ct.pickle'), 'rb') as f:\n",
    "    ct_plsr = pickle.load(f)\n",
    "    \n",
    "print('GMV: variance_explained:{:.2f} ,p:{:.2e}'.format(gmv_plsr.varexp[0] , gmv_plsr.permres.pvals[0]))\n",
    "print('CT: variance_explained:{:.2f} ,p:{:.2e}'.format(ct_plsr.varexp[0] , ct_plsr.permres.pvals[0]))"
   ]
  },
  {
   "cell_type": "code",
   "execution_count": null,
   "metadata": {},
   "outputs": [],
   "source": [
    "gmv_plsr.permres.pvals"
   ]
  },
  {
   "cell_type": "markdown",
   "metadata": {},
   "source": [
    "# Robustness of PLSR"
   ]
  },
  {
   "cell_type": "code",
   "execution_count": null,
   "metadata": {},
   "outputs": [],
   "source": [
    "# Take 80% subjects for meta then performed PLSR\n",
    "label_eg = 2\n",
    "label_cg = 0\n",
    "for i in range(5000):\n",
    "    roi_gmv_models = meta_roi.create_csv_for_meta(centers, label_eg, label_cg,\n",
    "                                    csv_prefix='roi_gmv_removed',\n",
    "                                    out_path=os.path.join('./data/meta_csv/robust', str(i)),\n",
    "                                    ratio=0.8)"
   ]
  },
  {
   "cell_type": "code",
   "execution_count": null,
   "metadata": {},
   "outputs": [],
   "source": [
    "for i in range(5000):\n",
    "    print(i)\n",
    "    roi_gmv_models = meta_roi.meta_gmv(2, 0, mask,\n",
    "                                    csv_dir=f'./data/meta_csv/robust/{i}',\n",
    "                                    out_dir='./results/robust',\n",
    "                                    save_nii=False)\n",
    "    with open(f'./results/robust/result_models_{i}.pkl', 'wb') as f:\n",
    "        pickle.dump(roi_gmv_models, f)"
   ]
  },
  {
   "cell_type": "code",
   "execution_count": null,
   "metadata": {},
   "outputs": [],
   "source": [
    "from scipy.stats import pearsonr\n",
    "import pickle\n",
    "\n",
    "main_models = meta_roi.meta_gmv(2, 0, mask, csv_prefix='roi_gmv_removed')\n",
    "main_ess = [model.total_effect_size for k, model in main_models.items()]\n",
    "rs = []\n",
    "for i in range(5000):\n",
    "    with open(f'./results/robust/result_models_{i}.pkl', 'rb') as f:\n",
    "        roi_gmv_models = pickle.load(f)\n",
    "        ess = [model.total_effect_size for k,model in roi_gmv_models.items()]\n",
    "        r,p = pearsonr(main_ess, ess)\n",
    "        rs.append(r)\n",
    "with open(f'./results/robust/rs.pkl', 'wb') as f:\n",
    "    pickle.dump(rs, f)"
   ]
  },
  {
   "cell_type": "code",
   "execution_count": null,
   "metadata": {},
   "outputs": [],
   "source": [
    "import pickle\n",
    "with open(f'./results/robust/rs.pkl', 'rb') as f:\n",
    "    rs = pickle.load(f)\n",
    "import seaborn as sns\n",
    "import matplotlib.pyplot as plt\n",
    "sns.histplot(x=rs, fill=True,\n",
    "            alpha=.5, linewidth=0,)\n",
    "plt.show()"
   ]
  },
  {
   "cell_type": "code",
   "execution_count": null,
   "metadata": {},
   "outputs": [],
   "source": [
    "from scipy.stats import pearsonr\n",
    "import pandas as pd\n",
    "df = pd.read_csv('./results/gene/2_0/plsr_gmv.csv', index_col=0)\n",
    "values = df['pls1'].values\n",
    "rs = []\n",
    "for i in range(5000):\n",
    "    print(i)\n",
    "    tmp_df = pd.read_csv(f'./results/robust/plsr/plsr_gmv_{i}.csv', index_col=0)\n",
    "    tmp_values = tmp_df['pls1'].values\n",
    "    r,p = pearsonr(values, tmp_values)\n",
    "    rs.append(r)\n",
    "import pickle\n",
    "with open(f'./results/robust/rs_plsr.pkl', 'wb') as f:\n",
    "    pickle.dump(rs, f)"
   ]
  },
  {
   "cell_type": "code",
   "execution_count": null,
   "metadata": {},
   "outputs": [],
   "source": [
    "import pickle\n",
    "import numpy as np\n",
    "with open(f'./results/robust/rs_plsr.pkl', 'rb') as f:\n",
    "    rs = pickle.load(f)\n",
    "rs = np.abs(rs)\n",
    "import seaborn as sns\n",
    "import matplotlib.pyplot as plt\n",
    "sns.histplot(x=rs, fill=True,\n",
    "            alpha=.5, linewidth=0,)\n",
    "plt.show()"
   ]
  },
  {
   "cell_type": "markdown",
   "metadata": {},
   "source": [
    "# Personal Scores & Subtypes\n",
    "## !! deprecated !!"
   ]
  },
  {
   "cell_type": "code",
   "execution_count": null,
   "metadata": {},
   "outputs": [],
   "source": [
    "from data_harmonization import neurocombat\n",
    "neurocombat(centers, personal_info_prefix = 'personal_info/{}.csv',\n",
    "                cat_prefix = 'report/cat_{}.xml',\n",
    "                csv_prefix = 'roi_ct/{}.csv',\n",
    "                out_prefix = 'neurocombat_ct/{}.csv')"
   ]
  },
  {
   "cell_type": "code",
   "execution_count": null,
   "metadata": {},
   "outputs": [],
   "source": [
    "# Use harmonized data\n",
    "# Already Controlled For Age Gender TIV\n",
    "from personal_scores import create_stats_csv\n",
    "create_stats_csv(centers, 'neurocombat_gmv', out_dir='./data/stats/', divide_tiv=False)\n",
    "create_stats_csv(centers, 'neurocombat_ct', out_dir='./data/stats/', divide_tiv=False)"
   ]
  },
  {
   "cell_type": "code",
   "execution_count": null,
   "metadata": {},
   "outputs": [],
   "source": [
    "import personal_scores\n",
    "import importlib\n",
    "importlib.reload(personal_scores)\n",
    "personal_scores.cal_personal_scores(centers, './data/stats/neurocombat_gmv',\n",
    "                    'neurocombat_gmv/{}.csv', 'personal_scores/{}.csv')"
   ]
  },
  {
   "cell_type": "code",
   "execution_count": null,
   "metadata": {},
   "outputs": [],
   "source": [
    "import personal_scores\n",
    "import importlib\n",
    "importlib.reload(personal_scores)\n",
    "personal_scores.cal_personal_scores(centers, './data/stats/neurocombat_ct',\n",
    "                    'neurocombat_ct/{}.csv', 'personal_scores_ct/{}.csv')"
   ]
  },
  {
   "cell_type": "markdown",
   "metadata": {},
   "source": [
    "## Subtype analysis see subtype_unsupervised.py"
   ]
  },
  {
   "cell_type": "code",
   "execution_count": null,
   "metadata": {},
   "outputs": [],
   "source": [
    "from draw_center_summary import get_center_stats\n",
    "get_center_stats(csv_path='./results/s.csv')"
   ]
  },
  {
   "cell_type": "markdown",
   "id": "1ecb63d2",
   "metadata": {},
   "source": [
    "# Personal Scores & Subtypes\n",
    "## Using Gaussian process Regression\n",
    "### see normative.ipynb and personal_score_anlaysis.ipnb"
   ]
  }
 ],
 "metadata": {
  "interpreter": {
   "hash": "f4d9276dd5f4159fcfc6e7340f2d8c674abaee8f07fe7a5c7e9a65c0e06a4fc3"
  },
  "kernelspec": {
   "display_name": "Python 3.7.13 ('meta')",
   "language": "python",
   "name": "python3"
  },
  "language_info": {
   "codemirror_mode": {
    "name": "ipython",
    "version": 3
   },
   "file_extension": ".py",
   "mimetype": "text/x-python",
   "name": "python",
   "nbconvert_exporter": "python",
   "pygments_lexer": "ipython3",
   "version": "3.7.13"
  }
 },
 "nbformat": 4,
 "nbformat_minor": 5
}
